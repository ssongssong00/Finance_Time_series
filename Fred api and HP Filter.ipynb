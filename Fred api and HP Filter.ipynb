{
 "cells": [
  {
   "cell_type": "markdown",
   "id": "ecd3d18a",
   "metadata": {},
   "source": [
    "# Load fred api \n",
    "\n",
    "#### request fred api key\n",
    "https://fredaccount.stlouisfed.org/apikey\n",
    "\n",
    "#### import fredapi in python\n",
    "https://pypi.org/project/fredapi/"
   ]
  },
  {
   "cell_type": "code",
   "execution_count": 1,
   "id": "1fc3a0ae",
   "metadata": {
    "scrolled": true
   },
   "outputs": [
    {
     "name": "stdout",
     "output_type": "stream",
     "text": [
      "Collecting fredapi\n",
      "  Downloading fredapi-0.5.0-py3-none-any.whl (11 kB)\n",
      "Requirement already satisfied: pandas in /Users/parkseongwoo/opt/anaconda3/lib/python3.9/site-packages (from fredapi) (1.4.2)\n",
      "Requirement already satisfied: python-dateutil>=2.8.1 in /Users/parkseongwoo/opt/anaconda3/lib/python3.9/site-packages (from pandas->fredapi) (2.8.2)\n",
      "Requirement already satisfied: pytz>=2020.1 in /Users/parkseongwoo/opt/anaconda3/lib/python3.9/site-packages (from pandas->fredapi) (2021.3)\n",
      "Requirement already satisfied: numpy>=1.18.5 in /Users/parkseongwoo/opt/anaconda3/lib/python3.9/site-packages (from pandas->fredapi) (1.21.5)\n",
      "Requirement already satisfied: six>=1.5 in /Users/parkseongwoo/opt/anaconda3/lib/python3.9/site-packages (from python-dateutil>=2.8.1->pandas->fredapi) (1.16.0)\n",
      "Installing collected packages: fredapi\n",
      "Successfully installed fredapi-0.5.0\n",
      "Note: you may need to restart the kernel to use updated packages.\n"
     ]
    }
   ],
   "source": [
    "# pip install fredapi"
   ]
  },
  {
   "cell_type": "code",
   "execution_count": 2,
   "id": "43e21ec2",
   "metadata": {},
   "outputs": [],
   "source": [
    "from fredapi import Fred\n",
    "fred = Fred(api_key='9693401a19ce361c74bee8371a18ab17')"
   ]
  },
  {
   "cell_type": "code",
   "execution_count": 3,
   "id": "8c46a1e0",
   "metadata": {
    "scrolled": true
   },
   "outputs": [
    {
     "data": {
      "text/plain": [
       "2013-03-14    1563.23\n",
       "2013-03-15    1560.70\n",
       "2013-03-18    1552.10\n",
       "2013-03-19    1548.34\n",
       "2013-03-20    1558.71\n",
       "               ...   \n",
       "2023-03-07    3986.37\n",
       "2023-03-08    3992.01\n",
       "2023-03-09    3918.32\n",
       "2023-03-10    3861.59\n",
       "2023-03-13    3855.76\n",
       "Length: 2608, dtype: float64"
      ]
     },
     "execution_count": 3,
     "metadata": {},
     "output_type": "execute_result"
    }
   ],
   "source": [
    "data = fred.get_series('SP500')\n",
    "data"
   ]
  },
  {
   "cell_type": "markdown",
   "id": "1e328bc6",
   "metadata": {},
   "source": [
    "# Load HP Filter\n",
    "\n",
    "#### User guide statsmodels.hpfilter\n",
    "https://www.statsmodels.org/dev/generated/statsmodels.tsa.filters.hp_filter.hpfilter.html"
   ]
  },
  {
   "cell_type": "code",
   "execution_count": 5,
   "id": "71f23d7e",
   "metadata": {},
   "outputs": [],
   "source": [
    "import statsmodels.api as sm\n",
    "import pandas as pd"
   ]
  },
  {
   "cell_type": "code",
   "execution_count": 6,
   "id": "2ac1ca79",
   "metadata": {},
   "outputs": [],
   "source": [
    "dta = sm.datasets.macrodata.load_pandas().data\n",
    "index = pd.period_range('1959Q1', '2009Q3', freq='Q')\n",
    "dta.set_index(index, inplace=True)"
   ]
  },
  {
   "cell_type": "code",
   "execution_count": 7,
   "id": "f9d890d6",
   "metadata": {},
   "outputs": [
    {
     "name": "stderr",
     "output_type": "stream",
     "text": [
      "/var/folders/yg/t296_d3572b157yspt56qd2c0000gn/T/ipykernel_10904/4142961758.py:3: SettingWithCopyWarning: \n",
      "A value is trying to be set on a copy of a slice from a DataFrame.\n",
      "Try using .loc[row_indexer,col_indexer] = value instead\n",
      "\n",
      "See the caveats in the documentation: https://pandas.pydata.org/pandas-docs/stable/user_guide/indexing.html#returning-a-view-versus-a-copy\n",
      "  gdp_decomp[\"cycle\"] = cycle\n",
      "/var/folders/yg/t296_d3572b157yspt56qd2c0000gn/T/ipykernel_10904/4142961758.py:4: SettingWithCopyWarning: \n",
      "A value is trying to be set on a copy of a slice from a DataFrame.\n",
      "Try using .loc[row_indexer,col_indexer] = value instead\n",
      "\n",
      "See the caveats in the documentation: https://pandas.pydata.org/pandas-docs/stable/user_guide/indexing.html#returning-a-view-versus-a-copy\n",
      "  gdp_decomp[\"trend\"] = trend\n"
     ]
    }
   ],
   "source": [
    "cycle, trend = sm.tsa.filters.hpfilter(dta.realgdp, 1600)\n",
    "gdp_decomp = dta[['realgdp']]\n",
    "gdp_decomp[\"cycle\"] = cycle\n",
    "gdp_decomp[\"trend\"] = trend"
   ]
  },
  {
   "cell_type": "code",
   "execution_count": 8,
   "id": "bc48acdf",
   "metadata": {},
   "outputs": [
    {
     "data": {
      "image/png": "[encoded data removed]",
      "text/plain": [
       "<Figure size 432x288 with 1 Axes>"
      ]
     },
     "metadata": {
      "needs_background": "light"
     },
     "output_type": "display_data"
    }
   ],
   "source": [
    "import matplotlib.pyplot as plt\n",
    "fig, ax = plt.subplots()\n",
    "gdp_decomp[[\"realgdp\", \"trend\"]][\"2000-03-31\":].plot(ax=ax, fontsize=16)\n",
    "plt.show()"
   ]
  },
  {
   "cell_type": "code",
   "execution_count": null,
   "id": "be487a52",
   "metadata": {},
   "outputs": [],
   "source": []
  }
 ],
 "metadata": {
  "kernelspec": {
   "display_name": "Python 3 (ipykernel)",
   "language": "python",
   "name": "python3"
  },
  "language_info": {
   "codemirror_mode": {
    "name": "ipython",
    "version": 3
   },
   "file_extension": ".py",
   "mimetype": "text/x-python",
   "name": "python",
   "nbconvert_exporter": "python",
   "pygments_lexer": "ipython3",
   "version": "3.9.12"
  }
 },
 "nbformat": 4,
 "nbformat_minor": 5
}
