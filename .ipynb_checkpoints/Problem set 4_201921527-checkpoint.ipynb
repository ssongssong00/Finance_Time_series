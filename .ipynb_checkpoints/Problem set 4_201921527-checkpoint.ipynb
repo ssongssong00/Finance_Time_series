{
 "cells": [
  {
   "cell_type": "code",
   "execution_count": 20,
   "id": "83ab258f",
   "metadata": {},
   "outputs": [],
   "source": [
    "import pandas as pd"
   ]
  },
  {
   "cell_type": "code",
   "execution_count": 34,
   "id": "86e9ab64",
   "metadata": {},
   "outputs": [],
   "source": [
    "KRX_REITs = pd.read_excel('KRX_리츠TOP10지수.xlsx')\n",
    "\n",
    "KRX_REITs = KRX_REITs.sort_index(ascending=False)\n",
    "KRX_REITs.reset_index(drop = True, inplace = True)\n",
    "KRX_REITs.set_index('일자',drop=True, inplace = True)\n",
    "\n",
    "KRX_REITs_df = KRX_REITs[['종가']]"
   ]
  },
  {
   "cell_type": "code",
   "execution_count": 35,
   "id": "a03c7197",
   "metadata": {},
   "outputs": [],
   "source": [
    "KRX건설지수 = pd.read_excel('KRX건설지수.xlsx')\n",
    "\n",
    "KRX건설지수 = KRX건설지수.sort_index(ascending=False)\n",
    "KRX건설지수.reset_index(drop = True, inplace = True)\n",
    "KRX건설지수.set_index('일자',drop=True, inplace = True)\n",
    "\n",
    "KRX건설지수_df = KRX건설지수[['종가']]"
   ]
  },
  {
   "cell_type": "code",
   "execution_count": 36,
   "id": "4bf6f8e3",
   "metadata": {},
   "outputs": [],
   "source": [
    "BOK뉴스심리지수 = pd.read_excel('BOK뉴스심리지수.xlsx')\n",
    "\n",
    "BOK뉴스심리지수 = BOK뉴스심리지수.sort_index(ascending=False)\n",
    "BOK뉴스심리지수.reset_index(drop = True, inplace = True)\n",
    "BOK뉴스심리지수.set_index('일자',drop=True, inplace = True)"
   ]
  },
  {
   "cell_type": "code",
   "execution_count": 37,
   "id": "9a269eb3",
   "metadata": {},
   "outputs": [],
   "source": [
    "장단기금리차 = pd.read_excel('T10Y2Y.xls')\n",
    "장단기금리차['observation_date'] = [str(장단기금리차['observation_date'][i])[0:10] for i in range(len(장단기금리차))]\n",
    "장단기금리차['observation_date'] = 장단기금리차['observation_date'].str.replace('-','/')\n",
    "장단기금리차.dropna(inplace = True)\n",
    "장단기금리차.reset_index(drop = True, inplace = True)\n",
    "장단기금리차.set_index('observation_date',drop=True, inplace = True)"
   ]
  },
  {
   "cell_type": "code",
   "execution_count": 38,
   "id": "067379bd",
   "metadata": {},
   "outputs": [
    {
     "data": {
      "text/html": [
       "<div>\n",
       "<style scoped>\n",
       "    .dataframe tbody tr th:only-of-type {\n",
       "        vertical-align: middle;\n",
       "    }\n",
       "\n",
       "    .dataframe tbody tr th {\n",
       "        vertical-align: top;\n",
       "    }\n",
       "\n",
       "    .dataframe thead th {\n",
       "        text-align: right;\n",
       "    }\n",
       "</style>\n",
       "<table border=\"1\" class=\"dataframe\">\n",
       "  <thead>\n",
       "    <tr style=\"text-align: right;\">\n",
       "      <th></th>\n",
       "      <th>종가</th>\n",
       "    </tr>\n",
       "    <tr>\n",
       "      <th>일자</th>\n",
       "      <th></th>\n",
       "    </tr>\n",
       "  </thead>\n",
       "  <tbody>\n",
       "    <tr>\n",
       "      <th>2022/05/23</th>\n",
       "      <td>1187.49</td>\n",
       "    </tr>\n",
       "    <tr>\n",
       "      <th>2022/05/24</th>\n",
       "      <td>1194.48</td>\n",
       "    </tr>\n",
       "    <tr>\n",
       "      <th>2022/05/25</th>\n",
       "      <td>1205.65</td>\n",
       "    </tr>\n",
       "    <tr>\n",
       "      <th>2022/05/26</th>\n",
       "      <td>1215.53</td>\n",
       "    </tr>\n",
       "    <tr>\n",
       "      <th>2022/05/27</th>\n",
       "      <td>1220.22</td>\n",
       "    </tr>\n",
       "    <tr>\n",
       "      <th>...</th>\n",
       "      <td>...</td>\n",
       "    </tr>\n",
       "    <tr>\n",
       "      <th>2023/05/17</th>\n",
       "      <td>855.59</td>\n",
       "    </tr>\n",
       "    <tr>\n",
       "      <th>2023/05/18</th>\n",
       "      <td>857.98</td>\n",
       "    </tr>\n",
       "    <tr>\n",
       "      <th>2023/05/19</th>\n",
       "      <td>862.43</td>\n",
       "    </tr>\n",
       "    <tr>\n",
       "      <th>2023/05/22</th>\n",
       "      <td>864.23</td>\n",
       "    </tr>\n",
       "    <tr>\n",
       "      <th>2023/05/23</th>\n",
       "      <td>861.18</td>\n",
       "    </tr>\n",
       "  </tbody>\n",
       "</table>\n",
       "<p>249 rows × 1 columns</p>\n",
       "</div>"
      ],
      "text/plain": [
       "                 종가\n",
       "일자                 \n",
       "2022/05/23  1187.49\n",
       "2022/05/24  1194.48\n",
       "2022/05/25  1205.65\n",
       "2022/05/26  1215.53\n",
       "2022/05/27  1220.22\n",
       "...             ...\n",
       "2023/05/17   855.59\n",
       "2023/05/18   857.98\n",
       "2023/05/19   862.43\n",
       "2023/05/22   864.23\n",
       "2023/05/23   861.18\n",
       "\n",
       "[249 rows x 1 columns]"
      ]
     },
     "execution_count": 38,
     "metadata": {},
     "output_type": "execute_result"
    }
   ],
   "source": [
    "KRX_REITs_df"
   ]
  },
  {
   "cell_type": "code",
   "execution_count": 39,
   "id": "422f179c",
   "metadata": {},
   "outputs": [],
   "source": [
    "KRX_REITs_df.reset_index(inplace = True)\n",
    "KRX건설지수_df.reset_index(inplace = True)\n",
    "장단기금리차.reset_index(inplace = True)\n",
    "BOK뉴스심리지수.reset_index(inplace = True)"
   ]
  },
  {
   "cell_type": "code",
   "execution_count": 40,
   "id": "fd7a7756",
   "metadata": {},
   "outputs": [],
   "source": [
    "KRX_REITs_df.columns = ['Date', 'KRX리츠TOP지수']\n",
    "KRX건설지수_df.columns = ['Date', 'KRX건설지수']\n",
    "장단기금리차.columns = ['Date', 'BOK뉴스심리지수']\n",
    "BOK뉴스심리지수.columns = ['Date', 'T10Y2Y']"
   ]
  },
  {
   "cell_type": "code",
   "execution_count": 41,
   "id": "31555ba5",
   "metadata": {},
   "outputs": [],
   "source": [
    "df_final = pd.DataFrame()\n",
    "df_final = pd.merge(KRX_REITs_df, KRX건설지수_df, how='inner',on=['Date'])\n",
    "df_final = pd.merge(df_final, BOK뉴스심리지수, how='inner',on=['Date'])\n",
    "df_final = pd.merge(df_final, 장단기금리차, how='inner',on=['Date'])\n"
   ]
  },
  {
   "cell_type": "code",
   "execution_count": 42,
   "id": "c7a1b67e",
   "metadata": {},
   "outputs": [
    {
     "data": {
      "text/html": [
       "<div>\n",
       "<style scoped>\n",
       "    .dataframe tbody tr th:only-of-type {\n",
       "        vertical-align: middle;\n",
       "    }\n",
       "\n",
       "    .dataframe tbody tr th {\n",
       "        vertical-align: top;\n",
       "    }\n",
       "\n",
       "    .dataframe thead th {\n",
       "        text-align: right;\n",
       "    }\n",
       "</style>\n",
       "<table border=\"1\" class=\"dataframe\">\n",
       "  <thead>\n",
       "    <tr style=\"text-align: right;\">\n",
       "      <th></th>\n",
       "      <th>Date</th>\n",
       "      <th>KRX리츠TOP지수</th>\n",
       "      <th>KRX건설지수</th>\n",
       "      <th>T10Y2Y</th>\n",
       "      <th>BOK뉴스심리지수</th>\n",
       "    </tr>\n",
       "  </thead>\n",
       "  <tbody>\n",
       "    <tr>\n",
       "      <th>0</th>\n",
       "      <td>2022/05/23</td>\n",
       "      <td>1187.49</td>\n",
       "      <td>627.13</td>\n",
       "      <td>108.47</td>\n",
       "      <td>0.21</td>\n",
       "    </tr>\n",
       "    <tr>\n",
       "      <th>1</th>\n",
       "      <td>2022/05/24</td>\n",
       "      <td>1194.48</td>\n",
       "      <td>622.74</td>\n",
       "      <td>107.77</td>\n",
       "      <td>0.26</td>\n",
       "    </tr>\n",
       "    <tr>\n",
       "      <th>2</th>\n",
       "      <td>2022/05/25</td>\n",
       "      <td>1205.65</td>\n",
       "      <td>632.37</td>\n",
       "      <td>108.64</td>\n",
       "      <td>0.27</td>\n",
       "    </tr>\n",
       "    <tr>\n",
       "      <th>3</th>\n",
       "      <td>2022/05/26</td>\n",
       "      <td>1215.53</td>\n",
       "      <td>634.68</td>\n",
       "      <td>109.47</td>\n",
       "      <td>0.29</td>\n",
       "    </tr>\n",
       "    <tr>\n",
       "      <th>4</th>\n",
       "      <td>2022/05/27</td>\n",
       "      <td>1220.22</td>\n",
       "      <td>632.63</td>\n",
       "      <td>111.67</td>\n",
       "      <td>0.27</td>\n",
       "    </tr>\n",
       "    <tr>\n",
       "      <th>...</th>\n",
       "      <td>...</td>\n",
       "      <td>...</td>\n",
       "      <td>...</td>\n",
       "      <td>...</td>\n",
       "      <td>...</td>\n",
       "    </tr>\n",
       "    <tr>\n",
       "      <th>233</th>\n",
       "      <td>2023/05/16</td>\n",
       "      <td>859.21</td>\n",
       "      <td>680.88</td>\n",
       "      <td>94.64</td>\n",
       "      <td>-0.52</td>\n",
       "    </tr>\n",
       "    <tr>\n",
       "      <th>234</th>\n",
       "      <td>2023/05/17</td>\n",
       "      <td>855.59</td>\n",
       "      <td>680.59</td>\n",
       "      <td>95.60</td>\n",
       "      <td>-0.55</td>\n",
       "    </tr>\n",
       "    <tr>\n",
       "      <th>235</th>\n",
       "      <td>2023/05/18</td>\n",
       "      <td>857.98</td>\n",
       "      <td>686.32</td>\n",
       "      <td>96.50</td>\n",
       "      <td>-0.59</td>\n",
       "    </tr>\n",
       "    <tr>\n",
       "      <th>236</th>\n",
       "      <td>2023/05/19</td>\n",
       "      <td>862.43</td>\n",
       "      <td>694.64</td>\n",
       "      <td>99.54</td>\n",
       "      <td>-0.58</td>\n",
       "    </tr>\n",
       "    <tr>\n",
       "      <th>237</th>\n",
       "      <td>2023/05/22</td>\n",
       "      <td>864.23</td>\n",
       "      <td>712.69</td>\n",
       "      <td>103.73</td>\n",
       "      <td>-0.57</td>\n",
       "    </tr>\n",
       "  </tbody>\n",
       "</table>\n",
       "<p>238 rows × 5 columns</p>\n",
       "</div>"
      ],
      "text/plain": [
       "           Date  KRX리츠TOP지수  KRX건설지수  T10Y2Y  BOK뉴스심리지수\n",
       "0    2022/05/23     1187.49   627.13  108.47       0.21\n",
       "1    2022/05/24     1194.48   622.74  107.77       0.26\n",
       "2    2022/05/25     1205.65   632.37  108.64       0.27\n",
       "3    2022/05/26     1215.53   634.68  109.47       0.29\n",
       "4    2022/05/27     1220.22   632.63  111.67       0.27\n",
       "..          ...         ...      ...     ...        ...\n",
       "233  2023/05/16      859.21   680.88   94.64      -0.52\n",
       "234  2023/05/17      855.59   680.59   95.60      -0.55\n",
       "235  2023/05/18      857.98   686.32   96.50      -0.59\n",
       "236  2023/05/19      862.43   694.64   99.54      -0.58\n",
       "237  2023/05/22      864.23   712.69  103.73      -0.57\n",
       "\n",
       "[238 rows x 5 columns]"
      ]
     },
     "execution_count": 42,
     "metadata": {},
     "output_type": "execute_result"
    }
   ],
   "source": [
    "df_final"
   ]
  },
  {
   "cell_type": "code",
   "execution_count": 46,
   "id": "2dcf43f5",
   "metadata": {},
   "outputs": [
    {
     "ename": "NameError",
     "evalue": "name 'statsmodels' is not defined",
     "output_type": "error",
     "traceback": [
      "\u001b[0;31m---------------------------------------------------------------------------\u001b[0m",
      "\u001b[0;31mNameError\u001b[0m                                 Traceback (most recent call last)",
      "Input \u001b[0;32mIn [46]\u001b[0m, in \u001b[0;36m<cell line: 1>\u001b[0;34m()\u001b[0m\n\u001b[0;32m----> 1\u001b[0m result \u001b[38;5;241m=\u001b[39m \u001b[43mstatsmodels\u001b[49m\u001b[38;5;241m.\u001b[39mtsa\u001b[38;5;241m.\u001b[39mvector_ar\u001b[38;5;241m.\u001b[39mvecm\u001b[38;5;241m.\u001b[39mcoint_johansen(df[[\u001b[38;5;124m'\u001b[39m\u001b[38;5;124mKRX리츠TOP지수\u001b[39m\u001b[38;5;124m'\u001b[39m,\u001b[38;5;124m'\u001b[39m\u001b[38;5;124mKRX건설지수\u001b[39m\u001b[38;5;124m'\u001b[39m,\u001b[38;5;124m'\u001b[39m\u001b[38;5;124mBOK뉴스심리지수\u001b[39m\u001b[38;5;124m'\u001b[39m,\u001b[38;5;124m'\u001b[39m\u001b[38;5;124mT10Y2Y\u001b[39m\u001b[38;5;124m'\u001b[39m]], det_order\u001b[38;5;241m=\u001b[39m\u001b[38;5;241m0\u001b[39m, k_ar_diff\u001b[38;5;241m=\u001b[39m\u001b[38;5;241m1\u001b[39m)\n",
      "\u001b[0;31mNameError\u001b[0m: name 'statsmodels' is not defined"
     ]
    }
   ],
   "source": [
    "result = statsmodels.tsa.vector_ar.vecm.coint_johansen(df[['KRX리츠TOP지수','KRX건설지수','BOK뉴스심리지수','T10Y2Y']], det_order=0, k_ar_diff=1)"
   ]
  },
  {
   "cell_type": "code",
   "execution_count": 47,
   "id": "7600c325",
   "metadata": {},
   "outputs": [],
   "source": [
    "import statsmodels.api as sm\n"
   ]
  },
  {
   "cell_type": "code",
   "execution_count": null,
   "id": "11983251",
   "metadata": {},
   "outputs": [],
   "source": [
    "cointegration <- ca.jo(Canada, type=\"trace\",ecdet=\"trend\",spec=\"transitory\")\n",
    "> summary(cointegration)"
   ]
  },
  {
   "cell_type": "code",
   "execution_count": 58,
   "id": "ff0b1e02",
   "metadata": {},
   "outputs": [],
   "source": [
    "from statsmodels.tsa.vector_ar.vecm import coint_johansen\n",
    "result = coint_johansen(df_final[['KRX리츠TOP지수','KRX건설지수','BOK뉴스심리지수','T10Y2Y']], det_order=0, k_ar_diff=1)"
   ]
  },
  {
   "cell_type": "code",
   "execution_count": 59,
   "id": "f46bdadd",
   "metadata": {},
   "outputs": [],
   "source": [
    "coint_vec = result.evec"
   ]
  },
  {
   "cell_type": "code",
   "execution_count": 60,
   "id": "09c7e568",
   "metadata": {},
   "outputs": [
    {
     "data": {
      "text/plain": [
       "array([[ 7.44520278e-03,  1.18902920e-02, -3.15839649e-03,\n",
       "         4.99607120e-03],\n",
       "       [ 1.03015771e-02,  1.01116171e-02,  2.41183786e-03,\n",
       "        -1.87245735e-02],\n",
       "       [-1.05219656e+00, -4.35127786e+00, -2.19054474e+00,\n",
       "        -2.61744766e+00],\n",
       "       [-1.65488604e-01,  1.40704155e-02, -4.55945554e-02,\n",
       "         2.79800804e-02]])"
      ]
     },
     "execution_count": 60,
     "metadata": {},
     "output_type": "execute_result"
    }
   ],
   "source": [
    "coint_vec"
   ]
  },
  {
   "cell_type": "code",
   "execution_count": 62,
   "id": "28db2e6d",
   "metadata": {},
   "outputs": [
    {
     "name": "stdout",
     "output_type": "stream",
     "text": [
      "   max_eig_stat  trace_stat\n",
      "0     37.235065   65.131099\n",
      "1     14.862405   27.896034\n",
      "2     10.597136   13.033629\n",
      "3      2.436493    2.436493 \n",
      "\n",
      "Critical values(90%, 95%, 99%) of max_eig_stat\n",
      " [[25.1236 27.5858 32.7172]\n",
      " [18.8928 21.1314 25.865 ]\n",
      " [12.2971 14.2639 18.52  ]\n",
      " [ 2.7055  3.8415  6.6349]] \n",
      "\n",
      "Critical values(90%, 95%, 99%) of trace_stat\n",
      " [[44.4929 47.8545 54.6815]\n",
      " [27.0669 29.7961 35.4628]\n",
      " [13.4294 15.4943 19.9349]\n",
      " [ 2.7055  3.8415  6.6349]] \n",
      "\n"
     ]
    }
   ],
   "source": [
    "def joh_output(res):\n",
    "    output = pd.DataFrame([res.lr2,res.lr1],\n",
    "                          index=['max_eig_stat',\"trace_stat\"])\n",
    "    print(output.T,'\\n')\n",
    "    print(\"Critical values(90%, 95%, 99%) of max_eig_stat\\n\",res.cvm,'\\n')\n",
    "    print(\"Critical values(90%, 95%, 99%) of trace_stat\\n\",res.cvt,'\\n')\n",
    "\n",
    "\n",
    "# model with constant/trend (deterministic) term with lags set to 1\n",
    "joh_model = coint_johansen(df_final[['KRX리츠TOP지수','KRX건설지수','BOK뉴스심리지수','T10Y2Y']],0,1) # k_ar_diff +1 = K\n",
    "joh_output(joh_model)"
   ]
  },
  {
   "cell_type": "code",
   "execution_count": null,
   "id": "d67536b9",
   "metadata": {},
   "outputs": [],
   "source": []
  }
 ],
 "metadata": {
  "kernelspec": {
   "display_name": "Python 3 (ipykernel)",
   "language": "python",
   "name": "python3"
  },
  "language_info": {
   "codemirror_mode": {
    "name": "ipython",
    "version": 3
   },
   "file_extension": ".py",
   "mimetype": "text/x-python",
   "name": "python",
   "nbconvert_exporter": "python",
   "pygments_lexer": "ipython3",
   "version": "3.9.12"
  }
 },
 "nbformat": 4,
 "nbformat_minor": 5
}
