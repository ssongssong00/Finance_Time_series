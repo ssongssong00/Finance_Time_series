{
 "cells": [
  {
   "cell_type": "code",
   "execution_count": 1,
   "metadata": {
    "id": "xW0bi4T9v6nh"
   },
   "outputs": [],
   "source": [
    "import pandas as pd\n",
    "import numpy as np\n",
    "import matplotlib.pyplot as plt\n",
    "import statsmodels.graphics.tsaplots as sgt\n",
    "import statsmodels.tsa.stattools as sts\n",
    "from statsmodels.tsa.arima_model import ARIMA\n",
    "from scipy.stats.distributions import chi2 \n",
    "from math import sqrt\n",
    "import seaborn as sns\n",
    "sns.set()"
   ]
  },
  {
   "cell_type": "code",
   "execution_count": null,
   "metadata": {
    "id": "W9pM0ymdv9J_"
   },
   "outputs": [],
   "source": [
    "df = pd.read_csv('/content/NYSE.csv')\n",
    "df.tail()"
   ]
  },
  {
   "cell_type": "code",
   "execution_count": null,
   "metadata": {
    "id": "CtwltqYQwCID"
   },
   "outputs": [],
   "source": [
    "from statsmodels.stats.diagnostic import acorr_ljungbox \n",
    "acorr_ljungbox(df.RATE[1:], lags=[16], return_df=True)"
   ]
  },
  {
   "cell_type": "code",
   "execution_count": null,
   "metadata": {
    "id": "V9khT8B-wMvL"
   },
   "outputs": [],
   "source": [
    "df.RATE.plot(figsize=(20,5))\n",
    "plt.title(\"NYSE\", size = 24)\n",
    "plt.show()"
   ]
  },
  {
   "cell_type": "code",
   "execution_count": null,
   "metadata": {
    "id": "83LVaYaiwUKu"
   },
   "outputs": [],
   "source": [
    "df['sq_rates'] = df.RATE.mul(df.RATE)\n",
    "df.sq_rates.plot(figsize=(20,5))\n",
    "plt.title(\"Volatility\", size = 24)\n",
    "plt.show()"
   ]
  },
  {
   "cell_type": "code",
   "execution_count": null,
   "metadata": {
    "id": "Qno-Rh3mwaTV"
   },
   "outputs": [],
   "source": [
    "sgt.plot_pacf(df.RATE[1:], lags = 40, alpha = 0.05, zero = False , method = ('ols'))\n",
    "plt.title(\"PACF of NYSE RATES\", size = 20)\n",
    "plt.show()"
   ]
  },
  {
   "cell_type": "code",
   "execution_count": null,
   "metadata": {
    "id": "Eg6sDX_OwGEG"
   },
   "outputs": [],
   "source": [
    "# from arch import arch_model\n",
    "# model building blocks: mean, variance, distribution\n",
    "!pip install arch\n",
    "from arch.univariate import ConstantMean,GARCH,EGARCH\n",
    "from arch.univariate import Normal,StudentsT,GeneralizedError\n",
    "from arch import arch_model\n"
   ]
  }
 ],
 "metadata": {
  "colab": {
   "provenance": []
  },
  "kernelspec": {
   "display_name": "Python 3 (ipykernel)",
   "language": "python",
   "name": "python3"
  },
  "language_info": {
   "codemirror_mode": {
    "name": "ipython",
    "version": 3
   },
   "file_extension": ".py",
   "mimetype": "text/x-python",
   "name": "python",
   "nbconvert_exporter": "python",
   "pygments_lexer": "ipython3",
   "version": "3.9.12"
  }
 },
 "nbformat": 4,
 "nbformat_minor": 1
}
